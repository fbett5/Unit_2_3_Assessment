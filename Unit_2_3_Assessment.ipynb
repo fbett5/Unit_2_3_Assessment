{
 "cells": [
  {
   "cell_type": "markdown",
   "source": [
    "# Instructions"
   ],
   "metadata": {}
  },
  {
   "cell_type": "markdown",
   "source": [
    "Read each question carefully and provide an appropriate answer in the following cells. Depending on the question, you may need to provide code or a text submission. **Be sure to label your answers with the question number for easy identification!**"
   ],
   "metadata": {}
  },
  {
   "cell_type": "markdown",
   "source": [
    "**Question 1: Which of the following statements is the correct way to import a csv into a Pandas DataFrame? (2 points)** \n",
    "\n",
    "A. \n",
    "\n",
    "```python\n",
    "import pandas as pd\n",
    "infile = pd.read_csv(file_name)\n",
    "```\n",
    "\n",
    "\n",
    "B. \n",
    "\n",
    "```python\n",
    "import pandas as pd\n",
    "infile = pd.readCSV(file_name)\n",
    "```\n",
    "\n",
    "\n",
    "C. \n",
    "\n",
    "```python\n",
    "import pandas as pd\n",
    "infile = read_file(file_name)\n",
    "```\n",
    "\n",
    "\n",
    "D. \n",
    "\n",
    "```python\n",
    "import pandas as pd\n",
    "df.read_file(file_name)\n",
    "```\n"
   ],
   "metadata": {}
  },
  {
   "cell_type": "code",
   "execution_count": 1,
   "source": [
    "# Answer 1 A.\r\n",
    "# Import libraries and dependencies\r\n",
    "import pandas as pd\r\n",
    "\r\n",
    "#importing csv files into pandas DataFrames\r\n",
    "infile = pd.read_csv(file_name)"
   ],
   "outputs": [],
   "metadata": {}
  },
  {
   "cell_type": "markdown",
   "source": [
    "**Question 2: Create a code block that first imports the `student.json` file into a Pandas dataframe named `grades`, then creates a new dataframe named `passing` that contains only the students whose `Pass/Fail` status equals `PASS`. (5 points)**"
   ],
   "metadata": {}
  },
  {
   "cell_type": "code",
   "execution_count": 4,
   "source": [
    "# Answer 2\r\n",
    "# Import libraries and dependencies\r\n",
    "import json \r\n",
    "import pandas as pd\r\n",
    "#importing json files into pandas df \r\n",
    "grades = pd.read_json('student.json')\r\n",
    "\r\n",
    "#Dataframe containing students who have pass\r\n",
    "passing = grades[grades[\"Pass/Fail\"] == 'PASS']\r\n",
    "passing.head()"
   ],
   "outputs": [
    {
     "output_type": "execute_result",
     "data": {
      "text/html": [
       "<div>\n",
       "<style scoped>\n",
       "    .dataframe tbody tr th:only-of-type {\n",
       "        vertical-align: middle;\n",
       "    }\n",
       "\n",
       "    .dataframe tbody tr th {\n",
       "        vertical-align: top;\n",
       "    }\n",
       "\n",
       "    .dataframe thead th {\n",
       "        text-align: right;\n",
       "    }\n",
       "</style>\n",
       "<table border=\"1\" class=\"dataframe\">\n",
       "  <thead>\n",
       "    <tr style=\"text-align: right;\">\n",
       "      <th></th>\n",
       "      <th>Student Name</th>\n",
       "      <th>Midterm Exam</th>\n",
       "      <th>Midterm Paper</th>\n",
       "      <th>Final Exam</th>\n",
       "      <th>Final Paper</th>\n",
       "      <th>Final Grade</th>\n",
       "      <th>Pass/Fail</th>\n",
       "      <th>Letter Grade</th>\n",
       "    </tr>\n",
       "  </thead>\n",
       "  <tbody>\n",
       "    <tr>\n",
       "      <th>0</th>\n",
       "      <td>Jackqueline Durbin</td>\n",
       "      <td>85</td>\n",
       "      <td>84</td>\n",
       "      <td>90</td>\n",
       "      <td>56</td>\n",
       "      <td>79</td>\n",
       "      <td>PASS</td>\n",
       "      <td>C</td>\n",
       "    </tr>\n",
       "    <tr>\n",
       "      <th>1</th>\n",
       "      <td>Lina Petters</td>\n",
       "      <td>48</td>\n",
       "      <td>57</td>\n",
       "      <td>97</td>\n",
       "      <td>95</td>\n",
       "      <td>74</td>\n",
       "      <td>PASS</td>\n",
       "      <td>C</td>\n",
       "    </tr>\n",
       "    <tr>\n",
       "      <th>2</th>\n",
       "      <td>Hilaria Mcgehee</td>\n",
       "      <td>96</td>\n",
       "      <td>100</td>\n",
       "      <td>97</td>\n",
       "      <td>87</td>\n",
       "      <td>95</td>\n",
       "      <td>PASS</td>\n",
       "      <td>A</td>\n",
       "    </tr>\n",
       "    <tr>\n",
       "      <th>4</th>\n",
       "      <td>Raelene Bundy</td>\n",
       "      <td>89</td>\n",
       "      <td>57</td>\n",
       "      <td>90</td>\n",
       "      <td>85</td>\n",
       "      <td>80</td>\n",
       "      <td>PASS</td>\n",
       "      <td>B</td>\n",
       "    </tr>\n",
       "    <tr>\n",
       "      <th>5</th>\n",
       "      <td>Wayne Mellor</td>\n",
       "      <td>71</td>\n",
       "      <td>93</td>\n",
       "      <td>97</td>\n",
       "      <td>55</td>\n",
       "      <td>79</td>\n",
       "      <td>PASS</td>\n",
       "      <td>C</td>\n",
       "    </tr>\n",
       "  </tbody>\n",
       "</table>\n",
       "</div>"
      ],
      "text/plain": [
       "         Student Name  Midterm Exam  Midterm Paper  Final Exam  Final Paper  \\\n",
       "0  Jackqueline Durbin            85             84          90           56   \n",
       "1        Lina Petters            48             57          97           95   \n",
       "2     Hilaria Mcgehee            96            100          97           87   \n",
       "4       Raelene Bundy            89             57          90           85   \n",
       "5        Wayne Mellor            71             93          97           55   \n",
       "\n",
       "   Final Grade Pass/Fail Letter Grade  \n",
       "0           79      PASS            C  \n",
       "1           74      PASS            C  \n",
       "2           95      PASS            A  \n",
       "4           80      PASS            B  \n",
       "5           79      PASS            C  "
      ]
     },
     "metadata": {},
     "execution_count": 4
    }
   ],
   "metadata": {}
  },
  {
   "cell_type": "markdown",
   "source": [
    "**Question 3: Create a code block that creates a Pandas dataframe with the following columns and values: (5 points)**\n",
    "\n",
    "* `Stock_Symbol`: AAPL, GOOG, TSLA, KO, MSFT\n",
    "* `Company_Name`: Apple, Google, Tesla, Coca-Cola, Microsoft\n",
    "* `52_Week_High`: 145.09, 1934.86, 900.40, 60.13, 242.64"
   ],
   "metadata": {}
  },
  {
   "cell_type": "code",
   "execution_count": 32,
   "source": [
    "# Answer 3\r\n",
    "# Import libraries and dependencies\r\n",
    "import pandas as pd\r\n",
    "\r\n",
    "#initialize the data of lists\r\n",
    "stock_data = {'Stock_Symbol':['AAPL', 'GOOG', 'TSLA', 'KO', 'MSFT'],\r\n",
    "           'Company_Name':[ 'Apple', 'Google', 'Tesla', 'Coca-Cola', 'Microsoft'],\r\n",
    "            '52_Week_High': [145.09, 1934.86, 900.40, 60.13, 242.64]\r\n",
    "}\r\n",
    "#creating the DataFrame\r\n",
    "stock_df = pd.DataFrame(stock_data)\r\n",
    "print(stock_df)"
   ],
   "outputs": [
    {
     "output_type": "stream",
     "name": "stdout",
     "text": [
      "  Stock_Symbol Company_Name  52_Week_High\n",
      "0         AAPL        Apple        145.09\n",
      "1         GOOG       Google       1934.86\n",
      "2         TSLA        Tesla        900.40\n",
      "3           KO    Coca-Cola         60.13\n",
      "4         MSFT    Microsoft        242.64\n"
     ]
    }
   ],
   "metadata": {}
  },
  {
   "cell_type": "markdown",
   "source": [
    "**Question 4: Which of the following `git` commands creates a new branch in your local repository? (2 points):**\n",
    "\n",
    "A. `git clone`\n",
    "\n",
    "B. `git pull <branch name>` \n",
    "\n",
    "C. `git checkout -b <branch name>`\n",
    "\n",
    "D. `git push -b <branch name>`"
   ],
   "metadata": {}
  },
  {
   "cell_type": "markdown",
   "source": [
    "### Answer 4 C. `git checkout -b <branch name>`\n"
   ],
   "metadata": {}
  },
  {
   "cell_type": "markdown",
   "source": [
    "**Question 5: Create a code block that performs the following operations: (10 points)**\n",
    "\n",
    "   1. Import the `bitcoin_cash_price.csv` file into a Pandas dataframe called `bitcoin`.\n",
    "   \n",
    "   2. Import the `dash_price.csv` file into a Pandas dataframe called `dash`.\n",
    "   \n",
    "   3. Merge the `bitcoin` and `dash` dataframes using the `Date` column as the identifier column. Name this new merged dataframe `crypto`. \n",
    "   \n",
    "   4. Create a new `Delta_Volume` column in the `crypto` dataframe that calculates the largest **absolute** difference between the bitcoin `Volume` versus dash `Volume`.\n",
    "   \n",
    "     * **Hint:** Use `abs()` to calculate absolute value.\n",
    "   \n",
    "   \n",
    "   5. Find the row in the `crypto` dataframe that contains the maximum `Delta_Volume` value. Print the row out. "
   ],
   "metadata": {}
  },
  {
   "cell_type": "code",
   "execution_count": 6,
   "source": [
    "# Answer 5\n",
    "# Import libraries and dependencies\n",
    "import pandas as pd\n",
    "\n",
    "#importing csv files into pandas DataFrames\n",
    "bitcoin = pd.read_csv('bitcoin_cash_price.csv')\n",
    "dash =  pd.read_csv('dash_price.csv')\n",
    "\n",
    "#reading information from the dataset\n",
    "print(bitcoin.head())\n",
    "\n",
    "#merging the two dataframes on date \n",
    "crypto = pd.merge(bitcoin, dash, how = 'left', on = 'Date')\n"
   ],
   "outputs": [
    {
     "output_type": "stream",
     "name": "stdout",
     "text": [
      "        Date    Open    High     Low   Close       Volume     Market Cap\n",
      "0  17-Sep-17  438.90  438.90  384.06  419.86  221828000.0  7,279,520,000\n",
      "1  16-Sep-17  424.49  450.98  388.20  440.22  313583000.0  7,039,590,000\n",
      "2  15-Sep-17  369.49  448.39  301.69  424.02  707231000.0  6,126,800,000\n",
      "3  14-Sep-17  504.22  510.47  367.04  367.04  257431000.0  8,359,650,000\n",
      "4  13-Sep-17  509.47  519.20  471.22  503.61  340344000.0  8,445,540,000\n"
     ]
    }
   ],
   "metadata": {}
  },
  {
   "cell_type": "code",
   "execution_count": 12,
   "source": [
    "print(dash.head())"
   ],
   "outputs": [
    {
     "output_type": "stream",
     "name": "stdout",
     "text": [
      "        Date    Open    High     Low   Close      Volume     Market Cap\n",
      "0  17-Sep-17  298.59  315.58  278.17  313.84  38081600.0  2,257,850,000\n",
      "1  16-Sep-17  284.50  301.23  276.57  298.86  43702600.0  2,150,800,000\n",
      "2  15-Sep-17  236.05  300.11  220.51  284.36  72695500.0  1,784,040,000\n",
      "3  14-Sep-17  301.11  303.74  236.24  236.24  35013800.0  2,275,100,000\n",
      "4  13-Sep-17  324.72  325.16  287.25  301.29  28322500.0  2,452,930,000\n"
     ]
    }
   ],
   "metadata": {}
  },
  {
   "cell_type": "code",
   "execution_count": 11,
   "source": [
    "crypto.head()"
   ],
   "outputs": [
    {
     "output_type": "execute_result",
     "data": {
      "text/html": [
       "<div>\n",
       "<style scoped>\n",
       "    .dataframe tbody tr th:only-of-type {\n",
       "        vertical-align: middle;\n",
       "    }\n",
       "\n",
       "    .dataframe tbody tr th {\n",
       "        vertical-align: top;\n",
       "    }\n",
       "\n",
       "    .dataframe thead th {\n",
       "        text-align: right;\n",
       "    }\n",
       "</style>\n",
       "<table border=\"1\" class=\"dataframe\">\n",
       "  <thead>\n",
       "    <tr style=\"text-align: right;\">\n",
       "      <th></th>\n",
       "      <th>Date</th>\n",
       "      <th>Open_x</th>\n",
       "      <th>High_x</th>\n",
       "      <th>Low_x</th>\n",
       "      <th>Close_x</th>\n",
       "      <th>Volume_x</th>\n",
       "      <th>Market Cap_x</th>\n",
       "      <th>Open_y</th>\n",
       "      <th>High_y</th>\n",
       "      <th>Low_y</th>\n",
       "      <th>Close_y</th>\n",
       "      <th>Volume_y</th>\n",
       "      <th>Market Cap_y</th>\n",
       "      <th>Delta_Volume</th>\n",
       "    </tr>\n",
       "  </thead>\n",
       "  <tbody>\n",
       "    <tr>\n",
       "      <th>0</th>\n",
       "      <td>17-Sep-17</td>\n",
       "      <td>438.90</td>\n",
       "      <td>438.90</td>\n",
       "      <td>384.06</td>\n",
       "      <td>419.86</td>\n",
       "      <td>221828000.0</td>\n",
       "      <td>7,279,520,000</td>\n",
       "      <td>298.59</td>\n",
       "      <td>315.58</td>\n",
       "      <td>278.17</td>\n",
       "      <td>313.84</td>\n",
       "      <td>38081600.0</td>\n",
       "      <td>2,257,850,000</td>\n",
       "      <td>183746400.0</td>\n",
       "    </tr>\n",
       "    <tr>\n",
       "      <th>1</th>\n",
       "      <td>16-Sep-17</td>\n",
       "      <td>424.49</td>\n",
       "      <td>450.98</td>\n",
       "      <td>388.20</td>\n",
       "      <td>440.22</td>\n",
       "      <td>313583000.0</td>\n",
       "      <td>7,039,590,000</td>\n",
       "      <td>284.50</td>\n",
       "      <td>301.23</td>\n",
       "      <td>276.57</td>\n",
       "      <td>298.86</td>\n",
       "      <td>43702600.0</td>\n",
       "      <td>2,150,800,000</td>\n",
       "      <td>269880400.0</td>\n",
       "    </tr>\n",
       "    <tr>\n",
       "      <th>2</th>\n",
       "      <td>15-Sep-17</td>\n",
       "      <td>369.49</td>\n",
       "      <td>448.39</td>\n",
       "      <td>301.69</td>\n",
       "      <td>424.02</td>\n",
       "      <td>707231000.0</td>\n",
       "      <td>6,126,800,000</td>\n",
       "      <td>236.05</td>\n",
       "      <td>300.11</td>\n",
       "      <td>220.51</td>\n",
       "      <td>284.36</td>\n",
       "      <td>72695500.0</td>\n",
       "      <td>1,784,040,000</td>\n",
       "      <td>634535500.0</td>\n",
       "    </tr>\n",
       "    <tr>\n",
       "      <th>3</th>\n",
       "      <td>14-Sep-17</td>\n",
       "      <td>504.22</td>\n",
       "      <td>510.47</td>\n",
       "      <td>367.04</td>\n",
       "      <td>367.04</td>\n",
       "      <td>257431000.0</td>\n",
       "      <td>8,359,650,000</td>\n",
       "      <td>301.11</td>\n",
       "      <td>303.74</td>\n",
       "      <td>236.24</td>\n",
       "      <td>236.24</td>\n",
       "      <td>35013800.0</td>\n",
       "      <td>2,275,100,000</td>\n",
       "      <td>222417200.0</td>\n",
       "    </tr>\n",
       "    <tr>\n",
       "      <th>4</th>\n",
       "      <td>13-Sep-17</td>\n",
       "      <td>509.47</td>\n",
       "      <td>519.20</td>\n",
       "      <td>471.22</td>\n",
       "      <td>503.61</td>\n",
       "      <td>340344000.0</td>\n",
       "      <td>8,445,540,000</td>\n",
       "      <td>324.72</td>\n",
       "      <td>325.16</td>\n",
       "      <td>287.25</td>\n",
       "      <td>301.29</td>\n",
       "      <td>28322500.0</td>\n",
       "      <td>2,452,930,000</td>\n",
       "      <td>312021500.0</td>\n",
       "    </tr>\n",
       "  </tbody>\n",
       "</table>\n",
       "</div>"
      ],
      "text/plain": [
       "        Date  Open_x  High_x   Low_x  Close_x     Volume_x   Market Cap_x  \\\n",
       "0  17-Sep-17  438.90  438.90  384.06   419.86  221828000.0  7,279,520,000   \n",
       "1  16-Sep-17  424.49  450.98  388.20   440.22  313583000.0  7,039,590,000   \n",
       "2  15-Sep-17  369.49  448.39  301.69   424.02  707231000.0  6,126,800,000   \n",
       "3  14-Sep-17  504.22  510.47  367.04   367.04  257431000.0  8,359,650,000   \n",
       "4  13-Sep-17  509.47  519.20  471.22   503.61  340344000.0  8,445,540,000   \n",
       "\n",
       "   Open_y  High_y   Low_y  Close_y    Volume_y   Market Cap_y  Delta_Volume  \n",
       "0  298.59  315.58  278.17   313.84  38081600.0  2,257,850,000   183746400.0  \n",
       "1  284.50  301.23  276.57   298.86  43702600.0  2,150,800,000   269880400.0  \n",
       "2  236.05  300.11  220.51   284.36  72695500.0  1,784,040,000   634535500.0  \n",
       "3  301.11  303.74  236.24   236.24  35013800.0  2,275,100,000   222417200.0  \n",
       "4  324.72  325.16  287.25   301.29  28322500.0  2,452,930,000   312021500.0  "
      ]
     },
     "metadata": {},
     "execution_count": 11
    }
   ],
   "metadata": {}
  },
  {
   "cell_type": "code",
   "execution_count": 10,
   "source": [
    "crypto[\"Delta_Volume\"]=abs(crypto[\"Volume_x\"]-crypto[\"Volume_y\"])\n",
    "crypto.head()"
   ],
   "outputs": [
    {
     "output_type": "execute_result",
     "data": {
      "text/html": [
       "<div>\n",
       "<style scoped>\n",
       "    .dataframe tbody tr th:only-of-type {\n",
       "        vertical-align: middle;\n",
       "    }\n",
       "\n",
       "    .dataframe tbody tr th {\n",
       "        vertical-align: top;\n",
       "    }\n",
       "\n",
       "    .dataframe thead th {\n",
       "        text-align: right;\n",
       "    }\n",
       "</style>\n",
       "<table border=\"1\" class=\"dataframe\">\n",
       "  <thead>\n",
       "    <tr style=\"text-align: right;\">\n",
       "      <th></th>\n",
       "      <th>Date</th>\n",
       "      <th>Open_x</th>\n",
       "      <th>High_x</th>\n",
       "      <th>Low_x</th>\n",
       "      <th>Close_x</th>\n",
       "      <th>Volume_x</th>\n",
       "      <th>Market Cap_x</th>\n",
       "      <th>Open_y</th>\n",
       "      <th>High_y</th>\n",
       "      <th>Low_y</th>\n",
       "      <th>Close_y</th>\n",
       "      <th>Volume_y</th>\n",
       "      <th>Market Cap_y</th>\n",
       "      <th>Delta_Volume</th>\n",
       "    </tr>\n",
       "  </thead>\n",
       "  <tbody>\n",
       "    <tr>\n",
       "      <th>0</th>\n",
       "      <td>17-Sep-17</td>\n",
       "      <td>438.90</td>\n",
       "      <td>438.90</td>\n",
       "      <td>384.06</td>\n",
       "      <td>419.86</td>\n",
       "      <td>221828000.0</td>\n",
       "      <td>7,279,520,000</td>\n",
       "      <td>298.59</td>\n",
       "      <td>315.58</td>\n",
       "      <td>278.17</td>\n",
       "      <td>313.84</td>\n",
       "      <td>38081600.0</td>\n",
       "      <td>2,257,850,000</td>\n",
       "      <td>183746400.0</td>\n",
       "    </tr>\n",
       "    <tr>\n",
       "      <th>1</th>\n",
       "      <td>16-Sep-17</td>\n",
       "      <td>424.49</td>\n",
       "      <td>450.98</td>\n",
       "      <td>388.20</td>\n",
       "      <td>440.22</td>\n",
       "      <td>313583000.0</td>\n",
       "      <td>7,039,590,000</td>\n",
       "      <td>284.50</td>\n",
       "      <td>301.23</td>\n",
       "      <td>276.57</td>\n",
       "      <td>298.86</td>\n",
       "      <td>43702600.0</td>\n",
       "      <td>2,150,800,000</td>\n",
       "      <td>269880400.0</td>\n",
       "    </tr>\n",
       "    <tr>\n",
       "      <th>2</th>\n",
       "      <td>15-Sep-17</td>\n",
       "      <td>369.49</td>\n",
       "      <td>448.39</td>\n",
       "      <td>301.69</td>\n",
       "      <td>424.02</td>\n",
       "      <td>707231000.0</td>\n",
       "      <td>6,126,800,000</td>\n",
       "      <td>236.05</td>\n",
       "      <td>300.11</td>\n",
       "      <td>220.51</td>\n",
       "      <td>284.36</td>\n",
       "      <td>72695500.0</td>\n",
       "      <td>1,784,040,000</td>\n",
       "      <td>634535500.0</td>\n",
       "    </tr>\n",
       "    <tr>\n",
       "      <th>3</th>\n",
       "      <td>14-Sep-17</td>\n",
       "      <td>504.22</td>\n",
       "      <td>510.47</td>\n",
       "      <td>367.04</td>\n",
       "      <td>367.04</td>\n",
       "      <td>257431000.0</td>\n",
       "      <td>8,359,650,000</td>\n",
       "      <td>301.11</td>\n",
       "      <td>303.74</td>\n",
       "      <td>236.24</td>\n",
       "      <td>236.24</td>\n",
       "      <td>35013800.0</td>\n",
       "      <td>2,275,100,000</td>\n",
       "      <td>222417200.0</td>\n",
       "    </tr>\n",
       "    <tr>\n",
       "      <th>4</th>\n",
       "      <td>13-Sep-17</td>\n",
       "      <td>509.47</td>\n",
       "      <td>519.20</td>\n",
       "      <td>471.22</td>\n",
       "      <td>503.61</td>\n",
       "      <td>340344000.0</td>\n",
       "      <td>8,445,540,000</td>\n",
       "      <td>324.72</td>\n",
       "      <td>325.16</td>\n",
       "      <td>287.25</td>\n",
       "      <td>301.29</td>\n",
       "      <td>28322500.0</td>\n",
       "      <td>2,452,930,000</td>\n",
       "      <td>312021500.0</td>\n",
       "    </tr>\n",
       "  </tbody>\n",
       "</table>\n",
       "</div>"
      ],
      "text/plain": [
       "        Date  Open_x  High_x   Low_x  Close_x     Volume_x   Market Cap_x  \\\n",
       "0  17-Sep-17  438.90  438.90  384.06   419.86  221828000.0  7,279,520,000   \n",
       "1  16-Sep-17  424.49  450.98  388.20   440.22  313583000.0  7,039,590,000   \n",
       "2  15-Sep-17  369.49  448.39  301.69   424.02  707231000.0  6,126,800,000   \n",
       "3  14-Sep-17  504.22  510.47  367.04   367.04  257431000.0  8,359,650,000   \n",
       "4  13-Sep-17  509.47  519.20  471.22   503.61  340344000.0  8,445,540,000   \n",
       "\n",
       "   Open_y  High_y   Low_y  Close_y    Volume_y   Market Cap_y  Delta_Volume  \n",
       "0  298.59  315.58  278.17   313.84  38081600.0  2,257,850,000   183746400.0  \n",
       "1  284.50  301.23  276.57   298.86  43702600.0  2,150,800,000   269880400.0  \n",
       "2  236.05  300.11  220.51   284.36  72695500.0  1,784,040,000   634535500.0  \n",
       "3  301.11  303.74  236.24   236.24  35013800.0  2,275,100,000   222417200.0  \n",
       "4  324.72  325.16  287.25   301.29  28322500.0  2,452,930,000   312021500.0  "
      ]
     },
     "metadata": {},
     "execution_count": 10
    }
   ],
   "metadata": {}
  },
  {
   "cell_type": "code",
   "execution_count": 14,
   "source": [
    "max_delta_vol =crypto[\"Delta_Volume\"].max()\n",
    "crypto[crypto[\"Delta_Volume\"] == max_delta_vol]"
   ],
   "outputs": [
    {
     "output_type": "execute_result",
     "data": {
      "text/html": [
       "<div>\n",
       "<style scoped>\n",
       "    .dataframe tbody tr th:only-of-type {\n",
       "        vertical-align: middle;\n",
       "    }\n",
       "\n",
       "    .dataframe tbody tr th {\n",
       "        vertical-align: top;\n",
       "    }\n",
       "\n",
       "    .dataframe thead th {\n",
       "        text-align: right;\n",
       "    }\n",
       "</style>\n",
       "<table border=\"1\" class=\"dataframe\">\n",
       "  <thead>\n",
       "    <tr style=\"text-align: right;\">\n",
       "      <th></th>\n",
       "      <th>Date</th>\n",
       "      <th>Open_x</th>\n",
       "      <th>High_x</th>\n",
       "      <th>Low_x</th>\n",
       "      <th>Close_x</th>\n",
       "      <th>Volume_x</th>\n",
       "      <th>Market Cap_x</th>\n",
       "      <th>Open_y</th>\n",
       "      <th>High_y</th>\n",
       "      <th>Low_y</th>\n",
       "      <th>Close_y</th>\n",
       "      <th>Volume_y</th>\n",
       "      <th>Market Cap_y</th>\n",
       "      <th>Delta_Volume</th>\n",
       "    </tr>\n",
       "  </thead>\n",
       "  <tbody>\n",
       "    <tr>\n",
       "      <th>30</th>\n",
       "      <td>18-Aug-17</td>\n",
       "      <td>458.67</td>\n",
       "      <td>764.07</td>\n",
       "      <td>458.67</td>\n",
       "      <td>690.24</td>\n",
       "      <td>3.087490e+09</td>\n",
       "      <td>7,565,590,000</td>\n",
       "      <td>233.84</td>\n",
       "      <td>240.41</td>\n",
       "      <td>219.42</td>\n",
       "      <td>224.28</td>\n",
       "      <td>50324200.0</td>\n",
       "      <td>1,753,350,000</td>\n",
       "      <td>3.037166e+09</td>\n",
       "    </tr>\n",
       "  </tbody>\n",
       "</table>\n",
       "</div>"
      ],
      "text/plain": [
       "         Date  Open_x  High_x   Low_x  Close_x      Volume_x   Market Cap_x  \\\n",
       "30  18-Aug-17  458.67  764.07  458.67   690.24  3.087490e+09  7,565,590,000   \n",
       "\n",
       "    Open_y  High_y   Low_y  Close_y    Volume_y   Market Cap_y  Delta_Volume  \n",
       "30  233.84  240.41  219.42   224.28  50324200.0  1,753,350,000  3.037166e+09  "
      ]
     },
     "metadata": {},
     "execution_count": 14
    }
   ],
   "metadata": {}
  },
  {
   "cell_type": "markdown",
   "source": [
    "**Question 6: Which of the following statements adjusts the upper and lower limits on a Matplotlib visualization? (2 points)**\n",
    "\n",
    "A. \n",
    "\n",
    "```python\n",
    "import matplotlib.pyplot as plt\n",
    "plt.hlines(0,25,0, alpha=0.25)\n",
    "```\n",
    "\n",
    "B.\n",
    "\n",
    "```python\n",
    "import matplotlib.pyplot as plt\n",
    "plt.xlim(0,25)\n",
    "plt.ylim(0,25)\n",
    "```\n",
    "\n",
    "C.\n",
    "```python\n",
    "import matplotlib.pyplot as plt\n",
    "plt.grid(0,25,0,25)\n",
    "```\n",
    "\n",
    "D.\n",
    "```python\n",
    "import matplotlib.pyplot as plt\n",
    "plt.upper(0,25)\n",
    "plt.lower(0,25)\n",
    "```"
   ],
   "metadata": {}
  },
  {
   "cell_type": "code",
   "execution_count": 6,
   "source": [
    "# Answer 6\n",
    "B.\n",
    "\n",
    "import matplotlib.pyplot as plt\n",
    "plt.xlim(0,25)\n",
    "plt.ylim(0,25)"
   ],
   "outputs": [],
   "metadata": {}
  },
  {
   "cell_type": "markdown",
   "source": [
    "**Question 7: Generate a bar plot that visualizes the following Netflix show IMDB ratings: (5 points)**\n",
    "\n",
    "`{\"Series\":[\"The Witcher\",\"Disenchantment\",\"Tiger King\",\"Ozark\",\"Stranger Things\"],\"User Ratings\":[8.2,7.2,7.6,8.4,8.7]}`"
   ],
   "metadata": {}
  },
  {
   "cell_type": "code",
   "execution_count": 31,
   "source": [
    "# Answer 7\n",
    "# Import libraries and dependencies\n",
    "import pandas as pd\n",
    "import numpy as np\n",
    "import seaborn as sns\n",
    "import matplotlib.pyplot as plt\n",
    "\n",
    "\n",
    "shows_series = {\"Series\":[\"The Witcher\",\"Disenchantment\",\"Tiger King\",\"Ozark\",\"Stranger Things\"],\n",
    "                \"User Ratings\":[8.2,7.2,7.6,8.4,8.7]}\n",
    "\n",
    "#Making DataFrame\n",
    "netflix_show= pd.DataFrame(shows_series)\n",
    "sns.barplot(x= 'Series',\n",
    "            y = 'User Ratings', \n",
    "            data = netflix_show)\n",
    "plt.xticks(rotation = 45)\n",
    "plt.title('TV Shows')\n",
    "plt.show()\n"
   ],
   "outputs": [
    {
     "output_type": "display_data",
     "data": {
      "image/png": "[encoded data removed]",
      "text/plain": [
       "<Figure size 432x288 with 1 Axes>"
      ]
     },
     "metadata": {
      "needs_background": "light"
     }
    }
   ],
   "metadata": {}
  },
  {
   "cell_type": "markdown",
   "source": [
    "**Question 8: Which of the following statements corretly creates a Matplotlib visualization with four subplots? (2 points)**\n",
    "\n",
    "A. `plt.subplot()`\n",
    "\n",
    "B. `plt.subplot(1,2,3,4)`\n",
    "\n",
    "C. `plt.subplot(1,4)`\n",
    "\n",
    "D. `plt.subplot(2,2,1)`"
   ],
   "metadata": {}
  },
  {
   "cell_type": "markdown",
   "source": [
    "### C. `plt.subplot(1,4)`"
   ],
   "metadata": {}
  },
  {
   "cell_type": "code",
   "execution_count": 1,
   "source": [
    "# Answer 8"
   ],
   "outputs": [],
   "metadata": {}
  },
  {
   "cell_type": "markdown",
   "source": [
    "**Question 9: Which of the following Matplotlib methods would you use to add a label to your plot with an arrow pointing to the value? (2 points)**\n",
    "\n",
    "A. `plt.annotate()`\n",
    "\n",
    "B. `plt.label()`\n",
    "\n",
    "C. `plt.show()`\n",
    "\n",
    "D. `plt.arrow()`"
   ],
   "metadata": {}
  },
  {
   "cell_type": "markdown",
   "source": [
    "### A. plt.annotate()"
   ],
   "metadata": {}
  },
  {
   "cell_type": "code",
   "execution_count": 9,
   "source": [
    "# Answer 9"
   ],
   "outputs": [],
   "metadata": {}
  },
  {
   "cell_type": "markdown",
   "source": [
    "**Question 10: Create a code block that performs the following operations: (15 points)**\n",
    "\n",
    "1. Import the `earthquakes_database.csv` file into a Pandas dataframe named `earthquakes`\n",
    "\n",
    "2. Retrieve the names of the unique data sources found in the `Source` column within your `earthquakes` dataframe.\n",
    "\n",
    "    * **Hint:** There should be 13 data sources.\n",
    "\n",
    "\n",
    "3. Create a Matplotlib scatterplot for each data source that visualizes the `Magnitude` (y-axis) versus `Depth` (x-axis). Be sure to add axis labels to your axes and title each plot with the name of the data source.\n",
    "\n",
    "    * **Note:** You will need to filter the `earthquakes` dataframe for each category type.\n"
   ],
   "metadata": {}
  },
  {
   "cell_type": "code",
   "execution_count": 29,
   "source": [
    "# Answer 10\n",
    "\n",
    "# Set plot space as inline for inline plots and qt for external plots\n",
    "%matplotlib inline\n",
    "\n",
    "# Import libraries and dependencies\n",
    "import pandas as pd\n",
    "import numpy as np\n",
    "import seaborn as sns\n",
    "import matplotlib.pyplot as plt\n",
    "\n",
    "#importing csv files into pandas DataFrames\n",
    "earthquakes = pd.read_csv('earthquakes_database.csv')\n",
    "\n",
    "#Unique data sources \n",
    "Sources = earthquakes['Source'].unique()\n",
    "\n",
    "# Set the figure size \n",
    "plt.figure(figsize=(26,26))\n",
    "\n",
    "num =1\n",
    "for source in Sources:\n",
    "    unique_df=earthquakes[earthquakes[\"Source\"]==source] \n",
    "    plt.subplot(4,4,num)\n",
    "    plt.scatter(unique_df[\"Depth\"], unique_df[\"Magnitude\"])\n",
    "    plt.xlabel(\"Depth\")\n",
    "    plt.ylabel(\"Magnitude\")\n",
    "    plt.title(source)\n",
    "    num +=1"
   ],
   "outputs": [
    {
     "output_type": "display_data",
     "data": {
      "image/png": "[encoded data removed]",
      "text/plain": [
       "<Figure size 1872x1872 with 13 Axes>"
      ]
     },
     "metadata": {
      "needs_background": "light"
     }
    }
   ],
   "metadata": {
    "scrolled": false
   }
  }
 ],
 "metadata": {
  "kernelspec": {
   "display_name": "Python 3",
   "language": "python",
   "name": "python3"
  },
  "language_info": {
   "codemirror_mode": {
    "name": "ipython",
    "version": 3
   },
   "file_extension": ".py",
   "mimetype": "text/x-python",
   "name": "python",
   "nbconvert_exporter": "python",
   "pygments_lexer": "ipython3",
   "version": "3.8.8"
  }
 },
 "nbformat": 4,
 "nbformat_minor": 4
}